{
 "cells": [
  {
   "cell_type": "markdown",
   "metadata": {
    "colab_type": "text",
    "id": "pBQsZEJmubLs"
   },
   "source": [
    "<img align=\"left\" src=\"https://lever-client-logos.s3.amazonaws.com/864372b1-534c-480e-acd5-9711f850815c-1524247202159.png\" width=200>\n",
    "<br></br>\n",
    "\n",
    "# Neural Network Framework (Keras)\n",
    "\n",
    "## *Data Science Unit 4 Sprint 2 Assignment 3*\n",
    "\n",
    "## Use the Keras Library to build a Multi-Layer Perceptron Model on the Boston Housing dataset\n",
    "\n",
    "- The Boston Housing dataset comes with the Keras library so use Keras to import it into your notebook. \n",
    "- Normalize the data (all features should have roughly the same scale)\n",
    "- Import the type of model and layers that you will need from Keras.\n",
    "- Instantiate a model object and use `model.add()` to add layers to your model\n",
    "- Since this is a regression model you will have a single output node in the final layer.\n",
    "- Use activation functions that are appropriate for this task\n",
    "- Compile your model\n",
    "- Fit your model and report its accuracy in terms of Mean Squared Error\n",
    "- Use the history object that is returned from model.fit to make graphs of the model's loss or train/validation accuracies by epoch. \n",
    "- Run this same data through a linear regression model. Which achieves higher accuracy?\n",
    "- Do a little bit of feature engineering and see how that affects your neural network model. (you will need to change your model to accept more inputs)\n",
    "- After feature engineering, which model sees a greater accuracy boost due to the new features?"
   ]
  },
  {
   "cell_type": "markdown",
   "metadata": {},
   "source": [
    "---\n",
    "* The Boston Housing dataset comes with the Keras library so use Keras to import it into your notebook.\n",
    "---"
   ]
  },
  {
   "cell_type": "code",
   "execution_count": 1,
   "metadata": {
    "colab": {},
    "colab_type": "code",
    "id": "8NLTAR87uYJ-"
   },
   "outputs": [
    {
     "name": "stdout",
     "output_type": "stream",
     "text": [
      "(404, 13)\n",
      "(102, 13)\n",
      "(404,)\n",
      "(102,)\n"
     ]
    }
   ],
   "source": [
    "# Import dataset from tensorflow\n",
    "from tensorflow.keras.datasets import boston_housing\n",
    "\n",
    "# Load the Data\n",
    "(X_train, y_train), (X_test, y_test) = boston_housing.load_data()\n",
    "\n",
    "print(X_train.shape)\n",
    "print(X_test.shape)\n",
    "print(y_train.shape)\n",
    "print(y_test.shape)"
   ]
  },
  {
   "cell_type": "markdown",
   "metadata": {},
   "source": [
    "---\n",
    "* Normalize the data (all features should have roughly the same scale)\n",
    "---"
   ]
  },
  {
   "cell_type": "code",
   "execution_count": 2,
   "metadata": {},
   "outputs": [],
   "source": [
    "# We'll normalize the data using the min-max scaler we used in the assignment the other night\n",
    "from sklearn.preprocessing import MinMaxScaler\n",
    "\n",
    "scaler = MinMaxScaler()\n",
    "X_train = scaler.fit_transform(X_train)\n",
    "X_test = scaler.transform(X_test)"
   ]
  },
  {
   "cell_type": "markdown",
   "metadata": {},
   "source": [
    "---\n",
    "* Import the type of model and layers that you will need from Keras.\n",
    "* Instantiate a model object and use model.add() to add layers to your model\n",
    "* Since this is a regression model you will have a single output node in the final layer.\n",
    "* Use activation functions that are appropriate for this task\n",
    "* Compile your model\n",
    "* Fit your model and report its accuracy in terms of Mean Squared Error\n",
    "---"
   ]
  },
  {
   "cell_type": "code",
   "execution_count": 3,
   "metadata": {},
   "outputs": [
    {
     "name": "stdout",
     "output_type": "stream",
     "text": [
      "Epoch 1/50\n",
      "13/13 [==============================] - 0s 15ms/step - loss: 21.6662 - mse: 555.7148 - val_loss: 21.4566 - val_mse: 546.9943\n",
      "Epoch 2/50\n",
      "13/13 [==============================] - 0s 2ms/step - loss: 19.7934 - mse: 481.2976 - val_loss: 18.8486 - val_mse: 447.6584\n",
      "Epoch 3/50\n",
      "13/13 [==============================] - 0s 2ms/step - loss: 16.2342 - mse: 358.3627 - val_loss: 14.2736 - val_mse: 288.4119\n",
      "Epoch 4/50\n",
      "13/13 [==============================] - 0s 2ms/step - loss: 11.1483 - mse: 201.7037 - val_loss: 9.6315 - val_mse: 152.1716\n",
      "Epoch 5/50\n",
      "13/13 [==============================] - 0s 2ms/step - loss: 8.9867 - mse: 132.3321 - val_loss: 8.5558 - val_mse: 126.7394\n",
      "Epoch 6/50\n",
      "13/13 [==============================] - 0s 2ms/step - loss: 7.9088 - mse: 108.5652 - val_loss: 7.5904 - val_mse: 104.5258\n",
      "Epoch 7/50\n",
      "13/13 [==============================] - 0s 2ms/step - loss: 6.8180 - mse: 90.3144 - val_loss: 6.7676 - val_mse: 87.3549\n",
      "Epoch 8/50\n",
      "13/13 [==============================] - 0s 2ms/step - loss: 5.9907 - mse: 73.3358 - val_loss: 6.1159 - val_mse: 72.7915\n",
      "Epoch 9/50\n",
      "13/13 [==============================] - 0s 2ms/step - loss: 5.3682 - mse: 63.7359 - val_loss: 5.7715 - val_mse: 66.4533\n",
      "Epoch 10/50\n",
      "13/13 [==============================] - 0s 2ms/step - loss: 5.0617 - mse: 59.8384 - val_loss: 5.4555 - val_mse: 59.4138\n",
      "Epoch 11/50\n",
      "13/13 [==============================] - 0s 2ms/step - loss: 4.8273 - mse: 54.5280 - val_loss: 5.4071 - val_mse: 58.5582\n",
      "Epoch 12/50\n",
      "13/13 [==============================] - 0s 2ms/step - loss: 4.6697 - mse: 52.8147 - val_loss: 5.1316 - val_mse: 53.2115\n",
      "Epoch 13/50\n",
      "13/13 [==============================] - 0s 2ms/step - loss: 4.5386 - mse: 50.0415 - val_loss: 5.0952 - val_mse: 52.3184\n",
      "Epoch 14/50\n",
      "13/13 [==============================] - 0s 2ms/step - loss: 4.4805 - mse: 47.4966 - val_loss: 4.7882 - val_mse: 46.7830\n",
      "Epoch 15/50\n",
      "13/13 [==============================] - 0s 2ms/step - loss: 4.3130 - mse: 46.8863 - val_loss: 4.6672 - val_mse: 44.4477\n",
      "Epoch 16/50\n",
      "13/13 [==============================] - 0s 3ms/step - loss: 4.1677 - mse: 41.6438 - val_loss: 4.6967 - val_mse: 44.7135\n",
      "Epoch 17/50\n",
      "13/13 [==============================] - 0s 2ms/step - loss: 3.9937 - mse: 41.0727 - val_loss: 4.3642 - val_mse: 38.5209\n",
      "Epoch 18/50\n",
      "13/13 [==============================] - 0s 2ms/step - loss: 3.9022 - mse: 37.4671 - val_loss: 4.3899 - val_mse: 39.3946\n",
      "Epoch 19/50\n",
      "13/13 [==============================] - 0s 2ms/step - loss: 3.7681 - mse: 36.9483 - val_loss: 4.1443 - val_mse: 35.6079\n",
      "Epoch 20/50\n",
      "13/13 [==============================] - 0s 2ms/step - loss: 3.6483 - mse: 34.2737 - val_loss: 4.0970 - val_mse: 34.5600\n",
      "Epoch 21/50\n",
      "13/13 [==============================] - 0s 2ms/step - loss: 3.5294 - mse: 32.5318 - val_loss: 3.7974 - val_mse: 29.9909\n",
      "Epoch 22/50\n",
      "13/13 [==============================] - 0s 2ms/step - loss: 3.3965 - mse: 30.6977 - val_loss: 3.6705 - val_mse: 27.7620\n",
      "Epoch 23/50\n",
      "13/13 [==============================] - 0s 2ms/step - loss: 3.3109 - mse: 28.5092 - val_loss: 3.6674 - val_mse: 27.8440\n",
      "Epoch 24/50\n",
      "13/13 [==============================] - 0s 2ms/step - loss: 3.1937 - mse: 27.2947 - val_loss: 3.4896 - val_mse: 24.1489\n",
      "Epoch 25/50\n",
      "13/13 [==============================] - 0s 2ms/step - loss: 3.1519 - mse: 26.5300 - val_loss: 3.3943 - val_mse: 23.1006\n",
      "Epoch 26/50\n",
      "13/13 [==============================] - 0s 2ms/step - loss: 3.1775 - mse: 25.5981 - val_loss: 3.4345 - val_mse: 24.0518\n",
      "Epoch 27/50\n",
      "13/13 [==============================] - 0s 2ms/step - loss: 3.0489 - mse: 23.4993 - val_loss: 3.3437 - val_mse: 22.7663\n",
      "Epoch 28/50\n",
      "13/13 [==============================] - 0s 2ms/step - loss: 2.9530 - mse: 24.1912 - val_loss: 3.2135 - val_mse: 20.1550\n",
      "Epoch 29/50\n",
      "13/13 [==============================] - 0s 2ms/step - loss: 2.9402 - mse: 23.1380 - val_loss: 3.1878 - val_mse: 19.8016\n",
      "Epoch 30/50\n",
      "13/13 [==============================] - 0s 2ms/step - loss: 2.8919 - mse: 21.9956 - val_loss: 3.1070 - val_mse: 19.2641\n",
      "Epoch 31/50\n",
      "13/13 [==============================] - 0s 2ms/step - loss: 2.8277 - mse: 21.4330 - val_loss: 3.0767 - val_mse: 18.8965\n",
      "Epoch 32/50\n",
      "13/13 [==============================] - 0s 2ms/step - loss: 2.7908 - mse: 20.9826 - val_loss: 3.0516 - val_mse: 19.2148\n",
      "Epoch 33/50\n",
      "13/13 [==============================] - 0s 2ms/step - loss: 2.7655 - mse: 21.2676 - val_loss: 3.0294 - val_mse: 18.5244\n",
      "Epoch 34/50\n",
      "13/13 [==============================] - 0s 2ms/step - loss: 2.7718 - mse: 20.6534 - val_loss: 3.1163 - val_mse: 17.8790\n",
      "Epoch 35/50\n",
      "13/13 [==============================] - 0s 2ms/step - loss: 2.7424 - mse: 20.4259 - val_loss: 2.9937 - val_mse: 18.6775\n",
      "Epoch 36/50\n",
      "13/13 [==============================] - 0s 3ms/step - loss: 2.7028 - mse: 20.2376 - val_loss: 2.9927 - val_mse: 18.0707\n",
      "Epoch 37/50\n",
      "13/13 [==============================] - 0s 2ms/step - loss: 2.6895 - mse: 20.0380 - val_loss: 2.9724 - val_mse: 18.6328\n",
      "Epoch 38/50\n",
      "13/13 [==============================] - 0s 2ms/step - loss: 2.6394 - mse: 19.5457 - val_loss: 2.9696 - val_mse: 18.1284\n",
      "Epoch 39/50\n",
      "13/13 [==============================] - 0s 3ms/step - loss: 2.6428 - mse: 19.6700 - val_loss: 2.9506 - val_mse: 18.4445\n",
      "Epoch 40/50\n",
      "13/13 [==============================] - 0s 2ms/step - loss: 2.6154 - mse: 19.5703 - val_loss: 2.9487 - val_mse: 18.6144\n",
      "Epoch 41/50\n",
      "13/13 [==============================] - 0s 2ms/step - loss: 2.6509 - mse: 19.3634 - val_loss: 2.9314 - val_mse: 17.5229\n",
      "Epoch 42/50\n",
      "13/13 [==============================] - 0s 2ms/step - loss: 2.5972 - mse: 19.1850 - val_loss: 2.9577 - val_mse: 17.1264\n",
      "Epoch 43/50\n",
      "13/13 [==============================] - 0s 2ms/step - loss: 2.6058 - mse: 18.4929 - val_loss: 2.8978 - val_mse: 17.6826\n",
      "Epoch 44/50\n",
      "13/13 [==============================] - 0s 2ms/step - loss: 2.5457 - mse: 17.6144 - val_loss: 3.1474 - val_mse: 20.7686\n",
      "Epoch 45/50\n",
      "13/13 [==============================] - 0s 2ms/step - loss: 2.7160 - mse: 19.1444 - val_loss: 2.9169 - val_mse: 18.2295\n",
      "Epoch 46/50\n",
      "13/13 [==============================] - 0s 2ms/step - loss: 2.5952 - mse: 18.9121 - val_loss: 2.9358 - val_mse: 17.9626\n",
      "Epoch 47/50\n",
      "13/13 [==============================] - 0s 2ms/step - loss: 2.5040 - mse: 17.9586 - val_loss: 2.8803 - val_mse: 16.9680\n",
      "Epoch 48/50\n",
      "13/13 [==============================] - 0s 2ms/step - loss: 2.5015 - mse: 18.4060 - val_loss: 2.8685 - val_mse: 17.4643\n",
      "Epoch 49/50\n",
      "13/13 [==============================] - 0s 2ms/step - loss: 2.4794 - mse: 17.9064 - val_loss: 2.8662 - val_mse: 17.3587\n",
      "Epoch 50/50\n",
      "13/13 [==============================] - 0s 2ms/step - loss: 2.4744 - mse: 17.9714 - val_loss: 2.8951 - val_mse: 17.4782\n"
     ]
    },
    {
     "data": {
      "text/plain": [
       "<tensorflow.python.keras.callbacks.History at 0x213524b23c8>"
      ]
     },
     "execution_count": 3,
     "metadata": {},
     "output_type": "execute_result"
    }
   ],
   "source": [
    "from tensorflow.keras import Sequential\n",
    "from tensorflow.keras.layers import Flatten, Dense\n",
    "from tensorflow.keras.callbacks import History \n",
    "\n",
    "# Instantiate history for callback/visualizations\n",
    "history = History()\n",
    "\n",
    "# Instantiate model and add layers\n",
    "model = Sequential()\n",
    "model.add(Dense(128, input_dim=13, activation=\"relu\"))\n",
    "model.add(Dense(128, activation=\"relu\"))\n",
    "model.add(Dense(1, activation=\"linear\"))\n",
    "\n",
    "# Compile the model \n",
    "model.compile(loss='mae', optimizer='adam', metrics=['mse'])\n",
    "\n",
    "# Fit the model and report MSE\n",
    "model.fit(x=X_train, \n",
    "        y=y_train, \n",
    "        epochs=50, \n",
    "        validation_data=(X_test, y_test), \n",
    "        callbacks=[history])"
   ]
  },
  {
   "cell_type": "markdown",
   "metadata": {},
   "source": [
    "---\n",
    "* Use the history object that is returned from model.fit to make graphs of the model's loss or train/validation accuracies by epoch.\n",
    "---"
   ]
  },
  {
   "cell_type": "code",
   "execution_count": 4,
   "metadata": {},
   "outputs": [
    {
     "data": {
      "image/png": "[encoded data removed]",
      "text/plain": [
       "<Figure size 432x288 with 1 Axes>"
      ]
     },
     "metadata": {
      "needs_background": "light"
     },
     "output_type": "display_data"
    },
    {
     "data": {
      "image/png": "[encoded data removed]",
      "text/plain": [
       "<Figure size 432x288 with 1 Axes>"
      ]
     },
     "metadata": {
      "needs_background": "light"
     },
     "output_type": "display_data"
    }
   ],
   "source": [
    "import matplotlib.pyplot as plt\n",
    "\n",
    "# summarize history for accuracy\n",
    "plt.plot(history.history['mse'])\n",
    "plt.plot(history.history['val_mse'])\n",
    "plt.title('model accuracy')\n",
    "plt.ylabel('accuracy')\n",
    "plt.xlabel('epoch')\n",
    "plt.legend(['train', 'test'], loc='upper left')\n",
    "plt.show()\n",
    "\n",
    "# summarize history for loss\n",
    "plt.plot(history.history['loss'])\n",
    "plt.plot(history.history['val_loss'])\n",
    "plt.title('model loss')\n",
    "plt.ylabel('loss')\n",
    "plt.xlabel('epoch')\n",
    "plt.legend(['train', 'test'], loc='upper left')\n",
    "plt.show()"
   ]
  },
  {
   "cell_type": "markdown",
   "metadata": {},
   "source": [
    "---\n",
    "* Run this same data through a linear regression model. Which achieves higher accuracy?\n",
    "---"
   ]
  },
  {
   "cell_type": "code",
   "execution_count": 5,
   "metadata": {},
   "outputs": [
    {
     "name": "stdout",
     "output_type": "stream",
     "text": [
      "Train error: 22.00480083834814\n"
     ]
    }
   ],
   "source": [
    "# Imports for baseline regression \n",
    "from sklearn.linear_model import LinearRegression\n",
    "from sklearn.metrics import mean_squared_error\n",
    "\n",
    "# Instantiate linear regression model \n",
    "model = LinearRegression()\n",
    "\n",
    "# Fit the model\n",
    "model.fit(X_train, y_train)\n",
    "y_pred = model.predict(X_train)\n",
    "mse = mean_squared_error(y_train, y_pred)\n",
    "print(\"Train error:\", mse)"
   ]
  },
  {
   "cell_type": "code",
   "execution_count": 6,
   "metadata": {},
   "outputs": [
    {
     "name": "stdout",
     "output_type": "stream",
     "text": [
      "Test error: 23.19559925642294\n"
     ]
    }
   ],
   "source": [
    "# Also apply model to test data\n",
    "y_pred = model.predict(X_test)\n",
    "mse = mean_squared_error(y_test, y_pred)\n",
    "print(\"Test error:\", mse)"
   ]
  },
  {
   "cell_type": "markdown",
   "metadata": {},
   "source": [
    "---\n",
    "Our model had a lower MSE than the baseline, which is an improvement, making our model more accurate. \n",
    "\n",
    "---"
   ]
  },
  {
   "cell_type": "markdown",
   "metadata": {},
   "source": [
    "---\n",
    "* Do a little bit of feature engineering and see how that affects your neural network model. (you will need to change your model to accept more inputs)\n",
    "---"
   ]
  },
  {
   "cell_type": "code",
   "execution_count": 7,
   "metadata": {},
   "outputs": [
    {
     "data": {
      "text/plain": [
       "array([[1.37816304e-02, 0.00000000e+00, 2.81524927e-01, ...,\n",
       "        8.93617021e-01, 1.00000000e+00, 4.68818985e-01],\n",
       "       [1.73654275e-04, 8.25000000e-01, 5.75513196e-02, ...,\n",
       "        2.23404255e-01, 9.96167230e-01, 3.80794702e-02],\n",
       "       [5.49837765e-02, 0.00000000e+00, 6.46627566e-01, ...,\n",
       "        8.08510638e-01, 9.46089061e-01, 4.22185430e-02],\n",
       "       ...,\n",
       "       [3.18534767e-04, 3.50000000e-01, 2.05278592e-01, ...,\n",
       "        4.57446809e-01, 9.12627969e-01, 1.68322296e-01],\n",
       "       [2.40852297e-02, 0.00000000e+00, 7.00879765e-01, ...,\n",
       "        2.23404255e-01, 6.59715568e-01, 3.87969095e-01],\n",
       "       [9.07048543e-05, 6.00000000e-01, 9.05425220e-02, ...,\n",
       "        3.19148936e-01, 9.49064501e-01, 7.31236203e-02]])"
      ]
     },
     "execution_count": 7,
     "metadata": {},
     "output_type": "execute_result"
    }
   ],
   "source": [
    "X_train"
   ]
  },
  {
   "cell_type": "code",
   "execution_count": 8,
   "metadata": {},
   "outputs": [
    {
     "data": {
      "text/html": [
       "<div>\n",
       "<style scoped>\n",
       "    .dataframe tbody tr th:only-of-type {\n",
       "        vertical-align: middle;\n",
       "    }\n",
       "\n",
       "    .dataframe tbody tr th {\n",
       "        vertical-align: top;\n",
       "    }\n",
       "\n",
       "    .dataframe thead th {\n",
       "        text-align: right;\n",
       "    }\n",
       "</style>\n",
       "<table border=\"1\" class=\"dataframe\">\n",
       "  <thead>\n",
       "    <tr style=\"text-align: right;\">\n",
       "      <th></th>\n",
       "      <th>CRIM</th>\n",
       "      <th>ZN</th>\n",
       "      <th>INDUS</th>\n",
       "      <th>CHAS</th>\n",
       "      <th>NOX</th>\n",
       "      <th>RM</th>\n",
       "      <th>AGE</th>\n",
       "      <th>DIS</th>\n",
       "      <th>RAD</th>\n",
       "      <th>TAX</th>\n",
       "      <th>PTRATIO</th>\n",
       "      <th>B</th>\n",
       "      <th>LSTAT</th>\n",
       "    </tr>\n",
       "  </thead>\n",
       "  <tbody>\n",
       "    <tr>\n",
       "      <th>0</th>\n",
       "      <td>0.013782</td>\n",
       "      <td>0.000</td>\n",
       "      <td>0.281525</td>\n",
       "      <td>0.0</td>\n",
       "      <td>0.314815</td>\n",
       "      <td>0.499806</td>\n",
       "      <td>0.914521</td>\n",
       "      <td>0.297191</td>\n",
       "      <td>0.130435</td>\n",
       "      <td>0.227533</td>\n",
       "      <td>0.893617</td>\n",
       "      <td>1.000000</td>\n",
       "      <td>0.468819</td>\n",
       "    </tr>\n",
       "    <tr>\n",
       "      <th>1</th>\n",
       "      <td>0.000174</td>\n",
       "      <td>0.825</td>\n",
       "      <td>0.057551</td>\n",
       "      <td>0.0</td>\n",
       "      <td>0.061728</td>\n",
       "      <td>0.784082</td>\n",
       "      <td>0.131823</td>\n",
       "      <td>0.536537</td>\n",
       "      <td>0.043478</td>\n",
       "      <td>0.305927</td>\n",
       "      <td>0.223404</td>\n",
       "      <td>0.996167</td>\n",
       "      <td>0.038079</td>\n",
       "    </tr>\n",
       "    <tr>\n",
       "      <th>2</th>\n",
       "      <td>0.054984</td>\n",
       "      <td>0.000</td>\n",
       "      <td>0.646628</td>\n",
       "      <td>0.0</td>\n",
       "      <td>0.506173</td>\n",
       "      <td>0.272851</td>\n",
       "      <td>1.000000</td>\n",
       "      <td>0.021178</td>\n",
       "      <td>1.000000</td>\n",
       "      <td>0.913958</td>\n",
       "      <td>0.808511</td>\n",
       "      <td>0.946089</td>\n",
       "      <td>0.042219</td>\n",
       "    </tr>\n",
       "    <tr>\n",
       "      <th>3</th>\n",
       "      <td>0.000374</td>\n",
       "      <td>0.000</td>\n",
       "      <td>0.173387</td>\n",
       "      <td>0.0</td>\n",
       "      <td>0.267490</td>\n",
       "      <td>0.479473</td>\n",
       "      <td>0.325438</td>\n",
       "      <td>0.506821</td>\n",
       "      <td>0.173913</td>\n",
       "      <td>0.068834</td>\n",
       "      <td>0.808511</td>\n",
       "      <td>1.000000</td>\n",
       "      <td>0.173289</td>\n",
       "    </tr>\n",
       "    <tr>\n",
       "      <th>4</th>\n",
       "      <td>0.041439</td>\n",
       "      <td>0.000</td>\n",
       "      <td>0.646628</td>\n",
       "      <td>0.0</td>\n",
       "      <td>0.674897</td>\n",
       "      <td>0.545120</td>\n",
       "      <td>0.880536</td>\n",
       "      <td>0.150041</td>\n",
       "      <td>1.000000</td>\n",
       "      <td>0.913958</td>\n",
       "      <td>0.808511</td>\n",
       "      <td>0.986207</td>\n",
       "      <td>0.356512</td>\n",
       "    </tr>\n",
       "  </tbody>\n",
       "</table>\n",
       "</div>"
      ],
      "text/plain": [
       "       CRIM     ZN     INDUS  CHAS       NOX        RM       AGE       DIS  \\\n",
       "0  0.013782  0.000  0.281525   0.0  0.314815  0.499806  0.914521  0.297191   \n",
       "1  0.000174  0.825  0.057551   0.0  0.061728  0.784082  0.131823  0.536537   \n",
       "2  0.054984  0.000  0.646628   0.0  0.506173  0.272851  1.000000  0.021178   \n",
       "3  0.000374  0.000  0.173387   0.0  0.267490  0.479473  0.325438  0.506821   \n",
       "4  0.041439  0.000  0.646628   0.0  0.674897  0.545120  0.880536  0.150041   \n",
       "\n",
       "        RAD       TAX   PTRATIO         B     LSTAT  \n",
       "0  0.130435  0.227533  0.893617  1.000000  0.468819  \n",
       "1  0.043478  0.305927  0.223404  0.996167  0.038079  \n",
       "2  1.000000  0.913958  0.808511  0.946089  0.042219  \n",
       "3  0.173913  0.068834  0.808511  1.000000  0.173289  \n",
       "4  1.000000  0.913958  0.808511  0.986207  0.356512  "
      ]
     },
     "execution_count": 8,
     "metadata": {},
     "output_type": "execute_result"
    }
   ],
   "source": [
    "# Alright, we need to set up a df with these arrays\n",
    "import pandas as pd\n",
    "\n",
    "# Set column names given in dataset\n",
    "column_names = ['CRIM', 'ZN', 'INDUS', 'CHAS', 'NOX', 'RM', 'AGE', \n",
    "                'DIS', 'RAD', 'TAX', 'PTRATIO', 'B', 'LSTAT']\n",
    "\n",
    "# Instantiate dfs\n",
    "X_train_df = pd.DataFrame(X_train, columns=column_names)\n",
    "X_test_df = pd.DataFrame(X_test, columns=column_names)\n",
    "\n",
    "# Fingers crossed\n",
    "X_train_df.head()"
   ]
  },
  {
   "cell_type": "code",
   "execution_count": 9,
   "metadata": {},
   "outputs": [],
   "source": [
    "# Not gonna lie, from the numbers idk if I've succeeded here or not \n",
    "# Lets get rid of some features and see if we can lower our mse \n",
    "X_train_df = X_train_df[['CRIM', 'INDUS', 'RM', 'AGE', 'DIS', 'TAX']]\n",
    "\n",
    "# What we do train, we must do to test \n",
    "X_test_df = X_test_df[['CRIM', 'INDUS', 'RM', 'AGE', 'DIS', 'TAX']]"
   ]
  },
  {
   "cell_type": "markdown",
   "metadata": {},
   "source": [
    "---\n",
    "* After feature engineering, which model sees a greater accuracy boost due to the new features?\n",
    "---"
   ]
  },
  {
   "cell_type": "code",
   "execution_count": 10,
   "metadata": {},
   "outputs": [
    {
     "name": "stdout",
     "output_type": "stream",
     "text": [
      "Epoch 1/50\n",
      "13/13 [==============================] - 0s 5ms/step - loss: 21.9844 - mse: 568.7516 - val_loss: 22.1342 - val_mse: 575.2454\n",
      "Epoch 2/50\n",
      "13/13 [==============================] - 0s 2ms/step - loss: 20.9041 - mse: 524.2050 - val_loss: 20.6633 - val_mse: 515.4451\n",
      "Epoch 3/50\n",
      "13/13 [==============================] - 0s 2ms/step - loss: 18.8967 - mse: 448.1489 - val_loss: 17.7805 - val_mse: 409.5409\n",
      "Epoch 4/50\n",
      "13/13 [==============================] - 0s 2ms/step - loss: 15.1821 - mse: 324.4756 - val_loss: 13.4248 - val_mse: 258.8123\n",
      "Epoch 5/50\n",
      "13/13 [==============================] - 0s 2ms/step - loss: 10.6114 - mse: 183.6131 - val_loss: 9.3185 - val_mse: 145.7936\n",
      "Epoch 6/50\n",
      "13/13 [==============================] - 0s 2ms/step - loss: 8.6920 - mse: 125.0973 - val_loss: 8.3977 - val_mse: 120.2663\n",
      "Epoch 7/50\n",
      "13/13 [==============================] - 0s 3ms/step - loss: 7.9116 - mse: 105.9683 - val_loss: 7.5169 - val_mse: 101.7939\n",
      "Epoch 8/50\n",
      "13/13 [==============================] - 0s 2ms/step - loss: 7.0933 - mse: 92.6407 - val_loss: 6.9304 - val_mse: 89.1455\n",
      "Epoch 9/50\n",
      "13/13 [==============================] - 0s 2ms/step - loss: 6.4156 - mse: 79.8615 - val_loss: 6.3323 - val_mse: 74.8627\n",
      "Epoch 10/50\n",
      "13/13 [==============================] - 0s 2ms/step - loss: 5.8758 - mse: 69.6154 - val_loss: 6.0386 - val_mse: 66.7593\n",
      "Epoch 11/50\n",
      "13/13 [==============================] - 0s 2ms/step - loss: 5.4216 - mse: 64.6478 - val_loss: 5.8452 - val_mse: 62.0306\n",
      "Epoch 12/50\n",
      "13/13 [==============================] - 0s 2ms/step - loss: 5.1697 - mse: 60.6054 - val_loss: 5.6515 - val_mse: 57.4140\n",
      "Epoch 13/50\n",
      "13/13 [==============================] - 0s 2ms/step - loss: 4.9884 - mse: 57.6481 - val_loss: 5.5197 - val_mse: 54.1167\n",
      "Epoch 14/50\n",
      "13/13 [==============================] - 0s 2ms/step - loss: 4.8655 - mse: 55.6048 - val_loss: 5.4370 - val_mse: 52.7034\n",
      "Epoch 15/50\n",
      "13/13 [==============================] - 0s 2ms/step - loss: 4.7838 - mse: 55.4027 - val_loss: 5.2962 - val_mse: 49.7302\n",
      "Epoch 16/50\n",
      "13/13 [==============================] - 0s 2ms/step - loss: 4.6965 - mse: 54.5015 - val_loss: 5.1724 - val_mse: 47.5661\n",
      "Epoch 17/50\n",
      "13/13 [==============================] - 0s 3ms/step - loss: 4.5867 - mse: 51.7099 - val_loss: 5.0562 - val_mse: 46.1606\n",
      "Epoch 18/50\n",
      "13/13 [==============================] - 0s 2ms/step - loss: 4.4959 - mse: 50.6497 - val_loss: 4.9598 - val_mse: 45.2317\n",
      "Epoch 19/50\n",
      "13/13 [==============================] - 0s 2ms/step - loss: 4.4277 - mse: 50.2222 - val_loss: 4.8150 - val_mse: 40.4389\n",
      "Epoch 20/50\n",
      "13/13 [==============================] - 0s 2ms/step - loss: 4.3836 - mse: 45.8747 - val_loss: 4.7917 - val_mse: 42.5251\n",
      "Epoch 21/50\n",
      "13/13 [==============================] - 0s 2ms/step - loss: 4.2991 - mse: 48.0730 - val_loss: 4.6219 - val_mse: 37.2301\n",
      "Epoch 22/50\n",
      "13/13 [==============================] - 0s 2ms/step - loss: 4.2499 - mse: 45.9390 - val_loss: 4.5587 - val_mse: 38.4239\n",
      "Epoch 23/50\n",
      "13/13 [==============================] - 0s 2ms/step - loss: 4.1232 - mse: 43.2333 - val_loss: 4.4981 - val_mse: 37.6017\n",
      "Epoch 24/50\n",
      "13/13 [==============================] - 0s 2ms/step - loss: 4.0639 - mse: 42.8842 - val_loss: 4.3843 - val_mse: 35.5581\n",
      "Epoch 25/50\n",
      "13/13 [==============================] - 0s 3ms/step - loss: 3.9570 - mse: 42.8939 - val_loss: 4.2602 - val_mse: 33.0435\n",
      "Epoch 26/50\n",
      "13/13 [==============================] - 0s 3ms/step - loss: 3.8578 - mse: 39.2878 - val_loss: 4.2930 - val_mse: 34.5287\n",
      "Epoch 27/50\n",
      "13/13 [==============================] - 0s 2ms/step - loss: 3.7752 - mse: 40.2635 - val_loss: 4.0506 - val_mse: 29.5121\n",
      "Epoch 28/50\n",
      "13/13 [==============================] - 0s 2ms/step - loss: 3.7040 - mse: 37.2975 - val_loss: 4.0574 - val_mse: 30.7095\n",
      "Epoch 29/50\n",
      "13/13 [==============================] - 0s 2ms/step - loss: 3.6203 - mse: 36.9384 - val_loss: 4.0312 - val_mse: 30.1132\n",
      "Epoch 30/50\n",
      "13/13 [==============================] - 0s 2ms/step - loss: 3.5441 - mse: 36.2935 - val_loss: 3.9252 - val_mse: 28.0042\n",
      "Epoch 31/50\n",
      "13/13 [==============================] - 0s 2ms/step - loss: 3.4639 - mse: 35.0438 - val_loss: 3.8397 - val_mse: 26.5866\n",
      "Epoch 32/50\n",
      "13/13 [==============================] - 0s 2ms/step - loss: 3.3962 - mse: 33.7947 - val_loss: 3.8945 - val_mse: 27.1491\n",
      "Epoch 33/50\n",
      "13/13 [==============================] - 0s 2ms/step - loss: 3.3467 - mse: 33.8911 - val_loss: 3.7367 - val_mse: 24.3166\n",
      "Epoch 34/50\n",
      "13/13 [==============================] - 0s 2ms/step - loss: 3.3240 - mse: 32.5013 - val_loss: 3.8244 - val_mse: 25.5490\n",
      "Epoch 35/50\n",
      "13/13 [==============================] - 0s 3ms/step - loss: 3.2943 - mse: 32.5092 - val_loss: 3.7948 - val_mse: 25.1542\n",
      "Epoch 36/50\n",
      "13/13 [==============================] - 0s 2ms/step - loss: 3.2509 - mse: 31.2782 - val_loss: 3.7432 - val_mse: 24.4040\n",
      "Epoch 37/50\n",
      "13/13 [==============================] - 0s 2ms/step - loss: 3.2286 - mse: 31.5898 - val_loss: 3.7530 - val_mse: 24.5106\n",
      "Epoch 38/50\n",
      "13/13 [==============================] - 0s 2ms/step - loss: 3.2451 - mse: 31.2736 - val_loss: 3.7144 - val_mse: 23.2476\n",
      "Epoch 39/50\n",
      "13/13 [==============================] - 0s 2ms/step - loss: 3.1890 - mse: 30.7178 - val_loss: 3.7032 - val_mse: 23.5515\n",
      "Epoch 40/50\n",
      "13/13 [==============================] - 0s 2ms/step - loss: 3.1924 - mse: 30.4033 - val_loss: 3.7986 - val_mse: 24.7657\n",
      "Epoch 41/50\n",
      "13/13 [==============================] - 0s 3ms/step - loss: 3.1691 - mse: 30.3268 - val_loss: 3.6434 - val_mse: 22.8186\n",
      "Epoch 42/50\n",
      "13/13 [==============================] - 0s 2ms/step - loss: 3.2022 - mse: 30.8866 - val_loss: 3.5744 - val_mse: 21.8966\n",
      "Epoch 43/50\n",
      "13/13 [==============================] - 0s 2ms/step - loss: 3.1295 - mse: 30.0315 - val_loss: 3.6678 - val_mse: 23.3425\n",
      "Epoch 44/50\n",
      "13/13 [==============================] - 0s 2ms/step - loss: 3.1125 - mse: 29.7401 - val_loss: 3.6633 - val_mse: 23.1929\n",
      "Epoch 45/50\n",
      "13/13 [==============================] - 0s 2ms/step - loss: 3.1005 - mse: 29.6959 - val_loss: 3.6130 - val_mse: 22.6520\n",
      "Epoch 46/50\n",
      "13/13 [==============================] - 0s 2ms/step - loss: 3.0963 - mse: 29.4523 - val_loss: 3.6205 - val_mse: 22.5441\n",
      "Epoch 47/50\n",
      "13/13 [==============================] - 0s 2ms/step - loss: 3.0930 - mse: 29.3710 - val_loss: 3.5490 - val_mse: 21.9883\n",
      "Epoch 48/50\n",
      "13/13 [==============================] - 0s 2ms/step - loss: 3.0947 - mse: 29.5738 - val_loss: 3.6517 - val_mse: 23.2531\n",
      "Epoch 49/50\n",
      "13/13 [==============================] - 0s 2ms/step - loss: 3.0628 - mse: 28.6797 - val_loss: 3.7024 - val_mse: 23.8469\n",
      "Epoch 50/50\n",
      "13/13 [==============================] - 0s 2ms/step - loss: 3.0725 - mse: 29.4284 - val_loss: 3.5162 - val_mse: 21.6163\n"
     ]
    },
    {
     "data": {
      "text/plain": [
       "<tensorflow.python.keras.callbacks.History at 0x2135d6d1b00>"
      ]
     },
     "execution_count": 10,
     "metadata": {},
     "output_type": "execute_result"
    }
   ],
   "source": [
    "# Instantiate history for callback/visualizations\n",
    "history2 = History()\n",
    "\n",
    "# Instantiate model and add layers(make sure to change input_dim because of changed # of features)\n",
    "model = Sequential()\n",
    "model.add(Dense(128, input_dim=6, activation=\"relu\"))\n",
    "model.add(Dense(128, activation=\"relu\"))\n",
    "model.add(Dense(1, activation=\"linear\"))\n",
    "\n",
    "# Compile the model \n",
    "model.compile(loss='mae', optimizer='adam', metrics=['mse'])\n",
    "\n",
    "# Fit the model and report MSE\n",
    "model.fit(x=X_train_df, \n",
    "        y=y_train, \n",
    "        epochs=50, \n",
    "        validation_data=(X_test_df, y_test), \n",
    "        callbacks=[history2])"
   ]
  },
  {
   "cell_type": "code",
   "execution_count": 11,
   "metadata": {},
   "outputs": [
    {
     "data": {
      "image/png": "[encoded data removed]",
      "text/plain": [
       "<Figure size 432x288 with 1 Axes>"
      ]
     },
     "metadata": {
      "needs_background": "light"
     },
     "output_type": "display_data"
    },
    {
     "data": {
      "image/png": "[encoded data removed]",
      "text/plain": [
       "<Figure size 432x288 with 1 Axes>"
      ]
     },
     "metadata": {
      "needs_background": "light"
     },
     "output_type": "display_data"
    }
   ],
   "source": [
    "import matplotlib.pyplot as plt\n",
    "\n",
    "# summarize history for accuracy\n",
    "plt.plot(history2.history['mse'])\n",
    "plt.plot(history2.history['val_mse'])\n",
    "plt.title('model accuracy')\n",
    "plt.ylabel('accuracy')\n",
    "plt.xlabel('epoch')\n",
    "plt.legend(['train', 'test'], loc='upper left')\n",
    "plt.show()\n",
    "\n",
    "# summarize history for loss\n",
    "plt.plot(history2.history['loss'])\n",
    "plt.plot(history2.history['val_loss'])\n",
    "plt.title('model loss')\n",
    "plt.ylabel('loss')\n",
    "plt.xlabel('epoch')\n",
    "plt.legend(['train', 'test'], loc='upper left')\n",
    "plt.show()"
   ]
  },
  {
   "cell_type": "code",
   "execution_count": 12,
   "metadata": {},
   "outputs": [
    {
     "name": "stdout",
     "output_type": "stream",
     "text": [
      "Train error: 35.525159115342426\n",
      "Test error: 25.66732751707087\n"
     ]
    }
   ],
   "source": [
    "# Imports for baseline regression \n",
    "from sklearn.linear_model import LinearRegression\n",
    "from sklearn.metrics import mean_squared_error\n",
    "\n",
    "# Instantiate linear regression model \n",
    "model = LinearRegression()\n",
    "\n",
    "# Fit the model\n",
    "model.fit(X_train_df, y_train)\n",
    "y_pred = model.predict(X_train_df)\n",
    "mse = mean_squared_error(y_train, y_pred)\n",
    "print(\"Train error:\", mse)\n",
    "\n",
    "# Also apply model to test data\n",
    "y_pred = model.predict(X_test_df)\n",
    "mse = mean_squared_error(y_test, y_pred)\n",
    "print(\"Test error:\", mse)"
   ]
  },
  {
   "cell_type": "markdown",
   "metadata": {
    "colab_type": "text",
    "id": "SfcFnOONyuNm"
   },
   "source": [
    "## Use the Keras Library to build an image recognition network using the Fashion-MNIST dataset (also comes with keras)\n",
    "\n",
    "- Load and preprocess the image data similar to how we preprocessed the MNIST data in class.\n",
    "- Make sure to one-hot encode your category labels\n",
    "- The number of nodes in your output layer should equal the number of classes you want to predict for Fashion-MNIST.\n",
    "- Try different hyperparameters. What is the highest accuracy that you are able to achieve.\n",
    "- Use the history object that is returned from model.fit to make graphs of the model's loss or train/validation accuracies by epoch. \n",
    "- Remember that neural networks fall prey to randomness so you may need to run your model multiple times (or use Cross Validation) in order to tell if a change to a hyperparameter is truly producing better results."
   ]
  },
  {
   "cell_type": "markdown",
   "metadata": {},
   "source": [
    "---\n",
    "* Load and preprocess the image data similar to how we preprocessed the MNIST data in class.\n",
    "---"
   ]
  },
  {
   "cell_type": "code",
   "execution_count": 13,
   "metadata": {
    "colab": {},
    "colab_type": "code",
    "id": "szi6-IpuzaH1"
   },
   "outputs": [
    {
     "name": "stdout",
     "output_type": "stream",
     "text": [
      "(60000, 28, 28)\n",
      "(10000, 28, 28)\n"
     ]
    }
   ],
   "source": [
    "from tensorflow.keras.datasets import fashion_mnist\n",
    "\n",
    "(X_train, y_train), (X_test, y_test) = fashion_mnist.load_data()\n",
    "\n",
    "print(X_train.shape)\n",
    "print(X_test.shape)"
   ]
  },
  {
   "cell_type": "markdown",
   "metadata": {},
   "source": [
    "---\n",
    "* Make sure to one-hot encode your category labels\n",
    "---"
   ]
  },
  {
   "cell_type": "code",
   "execution_count": 22,
   "metadata": {},
   "outputs": [
    {
     "name": "stdout",
     "output_type": "stream",
     "text": [
      "(60000, 10)\n",
      "(10000, 10)\n"
     ]
    }
   ],
   "source": [
    "import tensorflow as tf\n",
    "import numpy as np\n",
    "from tensorflow.keras.utils import to_categorical \n",
    "\n",
    "# Normalize data dimensions so that they are approximately the same scale\n",
    "#X_train = X_train.astype('float32') / 255.\n",
    "#X_test = X_test.astype('float32') / 255.\n",
    "\n",
    "one_hot_y_train = tf.one_hot(y_train.astype(np.int32), depth=10)\n",
    "one_hot_y_test = tf.one_hot(y_test.astype(np.int32), depth=10)\n",
    "\n",
    "print(one_hot_y_train.shape)\n",
    "print(one_hot_y_test.shape)"
   ]
  },
  {
   "cell_type": "markdown",
   "metadata": {},
   "source": [
    "---\n",
    "* The number of nodes in your output layer should equal the number of classes you want to predict for Fashion-MNIST.\n",
    "* Try different hyperparameters. What is the highest accuracy that you are able to achieve.\n",
    "---"
   ]
  },
  {
   "cell_type": "code",
   "execution_count": 23,
   "metadata": {},
   "outputs": [
    {
     "name": "stdout",
     "output_type": "stream",
     "text": [
      "Epoch 1/50\n",
      "1875/1875 [==============================] - 2s 995us/step - loss: 0.4882 - accuracy: 0.8255 - val_loss: 0.4005 - val_accuracy: 0.8566\n",
      "Epoch 2/50\n",
      "1875/1875 [==============================] - 2s 920us/step - loss: 0.3670 - accuracy: 0.8648 - val_loss: 0.3770 - val_accuracy: 0.8678\n",
      "Epoch 3/50\n",
      "1875/1875 [==============================] - 2s 943us/step - loss: 0.3338 - accuracy: 0.8761 - val_loss: 0.3790 - val_accuracy: 0.8622\n",
      "Epoch 4/50\n",
      "1875/1875 [==============================] - 2s 928us/step - loss: 0.3073 - accuracy: 0.8862 - val_loss: 0.3471 - val_accuracy: 0.8720\n",
      "Epoch 5/50\n",
      "1875/1875 [==============================] - 2s 903us/step - loss: 0.2902 - accuracy: 0.8913 - val_loss: 0.3652 - val_accuracy: 0.8687\n",
      "Epoch 6/50\n",
      "1875/1875 [==============================] - 2s 893us/step - loss: 0.2764 - accuracy: 0.8964 - val_loss: 0.3477 - val_accuracy: 0.8771\n",
      "Epoch 7/50\n",
      "1875/1875 [==============================] - 2s 895us/step - loss: 0.2630 - accuracy: 0.9012 - val_loss: 0.3692 - val_accuracy: 0.8683\n",
      "Epoch 8/50\n",
      "1875/1875 [==============================] - 2s 904us/step - loss: 0.2517 - accuracy: 0.9048 - val_loss: 0.3604 - val_accuracy: 0.8679\n",
      "Epoch 9/50\n",
      "1875/1875 [==============================] - 2s 945us/step - loss: 0.2424 - accuracy: 0.9079 - val_loss: 0.3327 - val_accuracy: 0.8826\n",
      "Epoch 10/50\n",
      "1875/1875 [==============================] - 2s 911us/step - loss: 0.2324 - accuracy: 0.9106 - val_loss: 0.3437 - val_accuracy: 0.8832\n",
      "Epoch 11/50\n",
      "1875/1875 [==============================] - 2s 921us/step - loss: 0.2261 - accuracy: 0.9134 - val_loss: 0.3448 - val_accuracy: 0.8794\n",
      "Epoch 12/50\n",
      "1875/1875 [==============================] - 2s 912us/step - loss: 0.2169 - accuracy: 0.9178 - val_loss: 0.3371 - val_accuracy: 0.8886\n",
      "Epoch 13/50\n",
      "1875/1875 [==============================] - 2s 914us/step - loss: 0.2102 - accuracy: 0.9194 - val_loss: 0.3458 - val_accuracy: 0.8863\n",
      "Epoch 14/50\n",
      "1875/1875 [==============================] - 2s 941us/step - loss: 0.2053 - accuracy: 0.9209 - val_loss: 0.3402 - val_accuracy: 0.8869\n",
      "Epoch 15/50\n",
      "1875/1875 [==============================] - 2s 916us/step - loss: 0.1964 - accuracy: 0.9248 - val_loss: 0.3366 - val_accuracy: 0.8840\n",
      "Epoch 16/50\n",
      "1875/1875 [==============================] - 2s 934us/step - loss: 0.1934 - accuracy: 0.9262 - val_loss: 0.3726 - val_accuracy: 0.8789\n",
      "Epoch 17/50\n",
      "1875/1875 [==============================] - 2s 933us/step - loss: 0.1875 - accuracy: 0.9283 - val_loss: 0.3452 - val_accuracy: 0.8915\n",
      "Epoch 18/50\n",
      "1875/1875 [==============================] - 2s 920us/step - loss: 0.1776 - accuracy: 0.9316 - val_loss: 0.3652 - val_accuracy: 0.8872\n",
      "Epoch 19/50\n",
      "1875/1875 [==============================] - 2s 965us/step - loss: 0.1751 - accuracy: 0.9331 - val_loss: 0.3707 - val_accuracy: 0.8925\n",
      "Epoch 20/50\n",
      "1875/1875 [==============================] - 2s 964us/step - loss: 0.1707 - accuracy: 0.9343 - val_loss: 0.3587 - val_accuracy: 0.8919\n",
      "Epoch 21/50\n",
      "1875/1875 [==============================] - 2s 1ms/step - loss: 0.1680 - accuracy: 0.9351 - val_loss: 0.3812 - val_accuracy: 0.8895\n",
      "Epoch 22/50\n",
      "1875/1875 [==============================] - 2s 1ms/step - loss: 0.1616 - accuracy: 0.9377 - val_loss: 0.3942 - val_accuracy: 0.8934\n",
      "Epoch 23/50\n",
      "1875/1875 [==============================] - 2s 980us/step - loss: 0.1549 - accuracy: 0.9398 - val_loss: 0.3937 - val_accuracy: 0.8893\n",
      "Epoch 24/50\n",
      "1875/1875 [==============================] - 2s 940us/step - loss: 0.1551 - accuracy: 0.9404 - val_loss: 0.4513 - val_accuracy: 0.8810\n",
      "Epoch 25/50\n",
      "1875/1875 [==============================] - 2s 952us/step - loss: 0.1514 - accuracy: 0.9418 - val_loss: 0.4050 - val_accuracy: 0.8906\n",
      "Epoch 26/50\n",
      "1875/1875 [==============================] - 2s 955us/step - loss: 0.1471 - accuracy: 0.9438 - val_loss: 0.4210 - val_accuracy: 0.8916\n",
      "Epoch 27/50\n",
      "1875/1875 [==============================] - 2s 949us/step - loss: 0.1458 - accuracy: 0.9437 - val_loss: 0.3986 - val_accuracy: 0.8931\n",
      "Epoch 28/50\n",
      "1875/1875 [==============================] - 2s 932us/step - loss: 0.1373 - accuracy: 0.9464 - val_loss: 0.4099 - val_accuracy: 0.8922\n",
      "Epoch 29/50\n",
      "1875/1875 [==============================] - 2s 924us/step - loss: 0.1356 - accuracy: 0.9478 - val_loss: 0.4420 - val_accuracy: 0.8825\n",
      "Epoch 30/50\n",
      "1875/1875 [==============================] - 2s 983us/step - loss: 0.1347 - accuracy: 0.9472 - val_loss: 0.4622 - val_accuracy: 0.8874\n",
      "Epoch 31/50\n",
      "1875/1875 [==============================] - 2s 951us/step - loss: 0.1295 - accuracy: 0.9508 - val_loss: 0.4719 - val_accuracy: 0.8928\n",
      "Epoch 32/50\n",
      "1875/1875 [==============================] - 2s 928us/step - loss: 0.1283 - accuracy: 0.9508 - val_loss: 0.4850 - val_accuracy: 0.8832\n",
      "Epoch 33/50\n",
      "1875/1875 [==============================] - 2s 955us/step - loss: 0.1258 - accuracy: 0.9518 - val_loss: 0.4985 - val_accuracy: 0.8909\n",
      "Epoch 34/50\n",
      "1875/1875 [==============================] - 2s 968us/step - loss: 0.1229 - accuracy: 0.9525 - val_loss: 0.4838 - val_accuracy: 0.8929\n",
      "Epoch 35/50\n",
      "1875/1875 [==============================] - 2s 991us/step - loss: 0.1216 - accuracy: 0.9531 - val_loss: 0.4818 - val_accuracy: 0.8873\n",
      "Epoch 36/50\n",
      "1875/1875 [==============================] - 2s 966us/step - loss: 0.1169 - accuracy: 0.9546 - val_loss: 0.5235 - val_accuracy: 0.8882\n",
      "Epoch 37/50\n",
      "1875/1875 [==============================] - 2s 970us/step - loss: 0.1145 - accuracy: 0.9561 - val_loss: 0.5005 - val_accuracy: 0.8907\n",
      "Epoch 38/50\n",
      "1875/1875 [==============================] - 2s 939us/step - loss: 0.1143 - accuracy: 0.9556 - val_loss: 0.5100 - val_accuracy: 0.8901\n",
      "Epoch 39/50\n",
      "1875/1875 [==============================] - 2s 940us/step - loss: 0.1125 - accuracy: 0.9573 - val_loss: 0.5433 - val_accuracy: 0.8851\n",
      "Epoch 40/50\n",
      "1875/1875 [==============================] - 2s 957us/step - loss: 0.1137 - accuracy: 0.9567 - val_loss: 0.5359 - val_accuracy: 0.8891\n",
      "Epoch 41/50\n",
      "1875/1875 [==============================] - 2s 940us/step - loss: 0.1041 - accuracy: 0.9594 - val_loss: 0.5167 - val_accuracy: 0.8906\n",
      "Epoch 42/50\n",
      "1875/1875 [==============================] - 2s 943us/step - loss: 0.1034 - accuracy: 0.9603 - val_loss: 0.4973 - val_accuracy: 0.8979\n",
      "Epoch 43/50\n",
      "1875/1875 [==============================] - 2s 925us/step - loss: 0.1028 - accuracy: 0.9603 - val_loss: 0.6018 - val_accuracy: 0.8874\n",
      "Epoch 44/50\n",
      "1875/1875 [==============================] - 2s 928us/step - loss: 0.1011 - accuracy: 0.9611 - val_loss: 0.5753 - val_accuracy: 0.8880\n",
      "Epoch 45/50\n",
      "1875/1875 [==============================] - 2s 957us/step - loss: 0.0991 - accuracy: 0.9614 - val_loss: 0.5293 - val_accuracy: 0.8911\n",
      "Epoch 46/50\n",
      "1875/1875 [==============================] - 2s 937us/step - loss: 0.0972 - accuracy: 0.9617 - val_loss: 0.5717 - val_accuracy: 0.8911\n",
      "Epoch 47/50\n",
      "1875/1875 [==============================] - 2s 971us/step - loss: 0.0988 - accuracy: 0.9625 - val_loss: 0.5810 - val_accuracy: 0.8898\n",
      "Epoch 48/50\n",
      "1875/1875 [==============================] - 2s 958us/step - loss: 0.0937 - accuracy: 0.9637 - val_loss: 0.5731 - val_accuracy: 0.8931\n",
      "Epoch 49/50\n",
      "1875/1875 [==============================] - 2s 943us/step - loss: 0.0932 - accuracy: 0.9627 - val_loss: 0.6304 - val_accuracy: 0.8852\n",
      "Epoch 50/50\n",
      "1875/1875 [==============================] - 2s 951us/step - loss: 0.0937 - accuracy: 0.9640 - val_loss: 0.5890 - val_accuracy: 0.8935\n"
     ]
    },
    {
     "data": {
      "text/plain": [
       "<tensorflow.python.keras.callbacks.History at 0x213681fdb70>"
      ]
     },
     "execution_count": 23,
     "metadata": {},
     "output_type": "execute_result"
    }
   ],
   "source": [
    "# Instantiate history for callback/visualizations\n",
    "history3 = History()\n",
    "\n",
    "# Instantiate model and add layers\n",
    "model = Sequential()\n",
    "model.add(Flatten())\n",
    "model.add(Dense(128, input_dim=784, activation=\"relu\"))\n",
    "model.add(Dense(128, activation=\"relu\"))\n",
    "model.add(Dense(10, activation=\"softmax\"))\n",
    "\n",
    "# Compile the model \n",
    "model.compile(loss='categorical_crossentropy', optimizer='adam', metrics=['accuracy'])\n",
    "\n",
    "# Fit the model and report MSE\n",
    "model.fit(x=X_train, \n",
    "        y=one_hot_y_train, \n",
    "        epochs=50, \n",
    "        validation_data=(X_test, one_hot_y_test), \n",
    "        callbacks=[history3])"
   ]
  },
  {
   "cell_type": "markdown",
   "metadata": {
    "colab_type": "text",
    "id": "zv_3xNMjzdLI"
   },
   "source": [
    "## Stretch Goals:\n",
    "\n",
    "- Use Hyperparameter Tuning to make the accuracy of your models as high as possible. (error as low as possible)\n",
    "- Use Cross Validation techniques to get more consistent results with your model.\n",
    "- Use GridSearchCV to try different combinations of hyperparameters. \n",
    "- Start looking into other types of Keras layers for CNNs and RNNs maybe try and build a CNN model for fashion-MNIST to see how the results compare."
   ]
  }
 ],
 "metadata": {
  "colab": {
   "name": "LS_DS_433_Keras_Assignment.ipynb",
   "provenance": [],
   "version": "0.3.2"
  },
  "kernelspec": {
   "display_name": "U4-S2-NLP ",
   "language": "python",
   "name": "u4-s2-nlp"
  },
  "language_info": {
   "codemirror_mode": {
    "name": "ipython",
    "version": 3
   },
   "file_extension": ".py",
   "mimetype": "text/x-python",
   "name": "python",
   "nbconvert_exporter": "python",
   "pygments_lexer": "ipython3",
   "version": "3.7.0"
  }
 },
 "nbformat": 4,
 "nbformat_minor": 4
}
