{
 "cells": [
  {
   "cell_type": "markdown",
   "metadata": {
    "colab_type": "text",
    "id": "NGGrt9EYlCqY"
   },
   "source": [
    "<img align=\"left\" src=\"https://lever-client-logos.s3.amazonaws.com/864372b1-534c-480e-acd5-9711f850815c-1524247202159.png\" width=200>\n",
    "<br></br>\n",
    "\n",
    "# Backpropagation Practice\n",
    "\n",
    "## *Data Science Unit 4 Sprint 2 Assignment 2*\n",
    "\n",
    "Using TensorFlow Keras, Implement a 3 input, 4 node hidden-layer, 1 output node Multilayer Perceptron on the following dataset:\n",
    "\n",
    "| x1 | x2 | x3 | y |\n",
    "|----|----|----|---|\n",
    "| 0  | 0  | 1  | 0 |\n",
    "| 0  | 1  | 1  | 1 |\n",
    "| 1  | 0  | 1  | 1 |\n",
    "| 0  | 1  | 0  | 1 |\n",
    "| 1  | 0  | 0  | 1 |\n",
    "| 1  | 1  | 1  | 0 |\n",
    "| 0  | 0  | 0  | 0 |\n",
    "\n",
    "If you look at the data you'll notice that the first two columns behave like an XOR gate while the last column is mostly just noise. Remember that creating an XOR gate was what the perceptron was criticized for not being able to learn.\n",
    "\n",
    "This is your \"Hello World!\" of TensorFlow.\n",
    "\n",
    "### Example TensorFlow Starter Code\n",
    "\n",
    "```python \n",
    "from tensorflow.keras.models import Sequential\n",
    "from tensorflow.keras.layers import Dense\n",
    "\n",
    "model = Sequential([\n",
    "    Dense(3, activation='sigmoid', input_dim=2),\n",
    "    Dense(1, activation='sigmoid')\n",
    "])\n",
    "\n",
    "model.compile(optimizer='sgd', loss='binary_crossentropy', metrics=['acc'])\n",
    "\n",
    "results = model.fit(X,y, epochs=100)\n",
    "\n",
    "```\n",
    "\n",
    "### Additional Written Tasks:\n",
    "1. Investigate the various [loss functions](https://www.tensorflow.org/api_docs/python/tf/keras/losses). Which is best suited for the task at hand (predicting 1 / 0) and why? \n",
    "2. What is the difference between a loss function and a metric? Why might we need both in Keras? \n",
    "3. Investigate the various [optimizers](https://www.tensorflow.org/api_docs/python/tf/keras/optimizers). Stochastic Gradient Descent (`sgd`) is not the learning algorithm dejour anyone. Why is that? What do newer optimizers such as `adam` have to offer? "
   ]
  },
  {
   "cell_type": "markdown",
   "metadata": {
    "colab": {},
    "colab_type": "code",
    "id": "nEREYT-3wI1f"
   },
   "source": [
    "---\n",
    "1. In this example problem, our output we're trying to predict is continual, so a regression loss function would be more appropriate. There seem to be a lot of regression loss options, but when I dive into the documentation it isn't clear why one would be superior to another in specific use cases. The two that I know the best, and I feel are widely regarded as the standards in regression, are the MeanSquaredError loss and the MeanAbsoluteError less functions.\n",
    "\n",
    "2. The loss function is used to optimize your model and in turn is the function that will get minimized by the optimizer. Unlike the loss function, a metric is used to judge the performance of your model. This is only for you to look at and has nothing to do with the optimization process.Lets say, for example, you want to minimize the MSE loss for a regression model while also checking the AUC for the model. In this case, the MSE is the loss function and the AUC is the metric. It is important to note that the metric is important for few Keras callbacks like EarlyStopping when one wants to stop training the model in case the metric isn't improving for a certaining no. of epochs.\n",
    "\n",
    "3. It turns out that this newer optimizier, 'adam', is actually a sgd method... so technically sgd is still the learning algorithm dejour??? But for the sake of the question, it seems that people have trended towards newer optimizers because they are capable of encompassing the desired effects of the old algorithms with added improvements for certain use cases. According to the paper Adam: A Method for Stochastic Optimization. Kingma et al., 2014, the method is \"computationally efficient, has little memory requirement, invariant to diagonal rescaling of gradients, and is well suited for problems that are large in terms of data/parameters\". I can't find specifics for the O.G. sgd algorithm, but i'm guessing that it falls short in some of those categories above.\n",
    "---\n"
   ]
  },
  {
   "cell_type": "markdown",
   "metadata": {},
   "source": [
    "### Build a Tensor Keras Perceptron\n",
    "\n",
    "Try to match the architecture we used on Monday - inputs nodes and one output node. Apply this architecture to the XOR-ish dataset above. \n",
    "\n",
    "After fitting your model answer these questions: \n",
    "\n",
    "Are you able to achieve the same results as a bigger architecture from the first part of the assignment? Why is this disparity the case? What properties of the XOR dataset would cause this disparity? \n",
    "\n",
    "Now extrapolate this behavior on a much larger dataset in terms of features. What kind of architecture decisions could we make to avoid the problems the XOR dataset presents at scale? \n",
    "\n",
    "*Note:* The bias term is baked in by default in the Dense layer."
   ]
  },
  {
   "cell_type": "code",
   "execution_count": 17,
   "metadata": {},
   "outputs": [
    {
     "name": "stdout",
     "output_type": "stream",
     "text": [
      "Epoch 1/100\n",
      "1/1 [==============================] - 0s 997us/step - loss: 0.6926 - acc: 0.5714\n",
      "Epoch 2/100\n",
      "1/1 [==============================] - 0s 997us/step - loss: 0.6924 - acc: 0.5714\n",
      "Epoch 3/100\n",
      "1/1 [==============================] - 0s 997us/step - loss: 0.6923 - acc: 0.5714\n",
      "Epoch 4/100\n",
      "1/1 [==============================] - 0s 998us/step - loss: 0.6921 - acc: 0.5714\n",
      "Epoch 5/100\n",
      "1/1 [==============================] - 0s 2ms/step - loss: 0.6919 - acc: 0.5714\n",
      "Epoch 6/100\n",
      "1/1 [==============================] - 0s 997us/step - loss: 0.6918 - acc: 0.5714\n",
      "Epoch 7/100\n",
      "1/1 [==============================] - 0s 997us/step - loss: 0.6916 - acc: 0.5714\n",
      "Epoch 8/100\n",
      "1/1 [==============================] - 0s 997us/step - loss: 0.6914 - acc: 0.5714\n",
      "Epoch 9/100\n",
      "1/1 [==============================] - 0s 997us/step - loss: 0.6913 - acc: 0.5714\n",
      "Epoch 10/100\n",
      "1/1 [==============================] - 0s 998us/step - loss: 0.6911 - acc: 0.5714\n",
      "Epoch 11/100\n",
      "1/1 [==============================] - 0s 0s/step - loss: 0.6910 - acc: 0.5714\n",
      "Epoch 12/100\n",
      "1/1 [==============================] - 0s 0s/step - loss: 0.6908 - acc: 0.5714\n",
      "Epoch 13/100\n",
      "1/1 [==============================] - 0s 997us/step - loss: 0.6906 - acc: 0.5714\n",
      "Epoch 14/100\n",
      "1/1 [==============================] - 0s 998us/step - loss: 0.6905 - acc: 0.5714\n",
      "Epoch 15/100\n",
      "1/1 [==============================] - 0s 0s/step - loss: 0.6903 - acc: 0.5714\n",
      "Epoch 16/100\n",
      "1/1 [==============================] - 0s 0s/step - loss: 0.6902 - acc: 0.5714\n",
      "Epoch 17/100\n",
      "1/1 [==============================] - 0s 996us/step - loss: 0.6900 - acc: 0.5714\n",
      "Epoch 18/100\n",
      "1/1 [==============================] - 0s 996us/step - loss: 0.6899 - acc: 0.5714\n",
      "Epoch 19/100\n",
      "1/1 [==============================] - 0s 0s/step - loss: 0.6897 - acc: 0.5714\n",
      "Epoch 20/100\n",
      "1/1 [==============================] - 0s 996us/step - loss: 0.6896 - acc: 0.5714\n",
      "Epoch 21/100\n",
      "1/1 [==============================] - 0s 997us/step - loss: 0.6894 - acc: 0.5714\n",
      "Epoch 22/100\n",
      "1/1 [==============================] - 0s 996us/step - loss: 0.6893 - acc: 0.5714\n",
      "Epoch 23/100\n",
      "1/1 [==============================] - 0s 996us/step - loss: 0.6891 - acc: 0.5714\n",
      "Epoch 24/100\n",
      "1/1 [==============================] - 0s 998us/step - loss: 0.6890 - acc: 0.5714\n",
      "Epoch 25/100\n",
      "1/1 [==============================] - 0s 997us/step - loss: 0.6888 - acc: 0.5714\n",
      "Epoch 26/100\n",
      "1/1 [==============================] - 0s 997us/step - loss: 0.6887 - acc: 0.5714\n",
      "Epoch 27/100\n",
      "1/1 [==============================] - 0s 0s/step - loss: 0.6885 - acc: 0.5714\n",
      "Epoch 28/100\n",
      "1/1 [==============================] - 0s 0s/step - loss: 0.6884 - acc: 0.5714\n",
      "Epoch 29/100\n",
      "1/1 [==============================] - 0s 0s/step - loss: 0.6883 - acc: 0.5714\n",
      "Epoch 30/100\n",
      "1/1 [==============================] - 0s 998us/step - loss: 0.6881 - acc: 0.5714\n",
      "Epoch 31/100\n",
      "1/1 [==============================] - 0s 0s/step - loss: 0.6880 - acc: 0.5714\n",
      "Epoch 32/100\n",
      "1/1 [==============================] - 0s 998us/step - loss: 0.6878 - acc: 0.5714\n",
      "Epoch 33/100\n",
      "1/1 [==============================] - 0s 997us/step - loss: 0.6877 - acc: 0.5714\n",
      "Epoch 34/100\n",
      "1/1 [==============================] - 0s 998us/step - loss: 0.6876 - acc: 0.5714\n",
      "Epoch 35/100\n",
      "1/1 [==============================] - 0s 0s/step - loss: 0.6874 - acc: 0.5714\n",
      "Epoch 36/100\n",
      "1/1 [==============================] - 0s 998us/step - loss: 0.6873 - acc: 0.5714\n",
      "Epoch 37/100\n",
      "1/1 [==============================] - 0s 0s/step - loss: 0.6872 - acc: 0.5714\n",
      "Epoch 38/100\n",
      "1/1 [==============================] - 0s 0s/step - loss: 0.6870 - acc: 0.5714\n",
      "Epoch 39/100\n",
      "1/1 [==============================] - 0s 0s/step - loss: 0.6869 - acc: 0.5714\n",
      "Epoch 40/100\n",
      "1/1 [==============================] - 0s 997us/step - loss: 0.6868 - acc: 0.5714\n",
      "Epoch 41/100\n",
      "1/1 [==============================] - 0s 998us/step - loss: 0.6866 - acc: 0.5714\n",
      "Epoch 42/100\n",
      "1/1 [==============================] - 0s 996us/step - loss: 0.6865 - acc: 0.5714\n",
      "Epoch 43/100\n",
      "1/1 [==============================] - 0s 997us/step - loss: 0.6864 - acc: 0.5714\n",
      "Epoch 44/100\n",
      "1/1 [==============================] - 0s 996us/step - loss: 0.6863 - acc: 0.5714\n",
      "Epoch 45/100\n",
      "1/1 [==============================] - 0s 998us/step - loss: 0.6861 - acc: 0.5714\n",
      "Epoch 46/100\n",
      "1/1 [==============================] - 0s 997us/step - loss: 0.6860 - acc: 0.5714\n",
      "Epoch 47/100\n",
      "1/1 [==============================] - 0s 997us/step - loss: 0.6859 - acc: 0.5714\n",
      "Epoch 48/100\n",
      "1/1 [==============================] - 0s 997us/step - loss: 0.6858 - acc: 0.5714\n",
      "Epoch 49/100\n",
      "1/1 [==============================] - 0s 998us/step - loss: 0.6856 - acc: 0.5714\n",
      "Epoch 50/100\n",
      "1/1 [==============================] - 0s 997us/step - loss: 0.6855 - acc: 0.5714\n",
      "Epoch 51/100\n",
      "1/1 [==============================] - 0s 997us/step - loss: 0.6854 - acc: 0.5714\n",
      "Epoch 52/100\n",
      "1/1 [==============================] - 0s 998us/step - loss: 0.6853 - acc: 0.5714\n",
      "Epoch 53/100\n",
      "1/1 [==============================] - 0s 997us/step - loss: 0.6852 - acc: 0.5714\n",
      "Epoch 54/100\n",
      "1/1 [==============================] - 0s 997us/step - loss: 0.6850 - acc: 0.5714\n",
      "Epoch 55/100\n",
      "1/1 [==============================] - 0s 998us/step - loss: 0.6849 - acc: 0.5714\n",
      "Epoch 56/100\n",
      "1/1 [==============================] - 0s 998us/step - loss: 0.6848 - acc: 0.5714\n",
      "Epoch 57/100\n",
      "1/1 [==============================] - 0s 998us/step - loss: 0.6847 - acc: 0.5714\n",
      "Epoch 58/100\n",
      "1/1 [==============================] - 0s 997us/step - loss: 0.6846 - acc: 0.5714\n",
      "Epoch 59/100\n",
      "1/1 [==============================] - 0s 998us/step - loss: 0.6845 - acc: 0.5714\n",
      "Epoch 60/100\n",
      "1/1 [==============================] - 0s 998us/step - loss: 0.6843 - acc: 0.5714\n",
      "Epoch 61/100\n",
      "1/1 [==============================] - 0s 997us/step - loss: 0.6842 - acc: 0.5714\n",
      "Epoch 62/100\n",
      "1/1 [==============================] - 0s 0s/step - loss: 0.6841 - acc: 0.5714\n",
      "Epoch 63/100\n",
      "1/1 [==============================] - 0s 0s/step - loss: 0.6840 - acc: 0.5714\n",
      "Epoch 64/100\n",
      "1/1 [==============================] - 0s 996us/step - loss: 0.6839 - acc: 0.5714\n",
      "Epoch 65/100\n",
      "1/1 [==============================] - 0s 996us/step - loss: 0.6838 - acc: 0.5714\n",
      "Epoch 66/100\n",
      "1/1 [==============================] - 0s 997us/step - loss: 0.6837 - acc: 0.5714\n",
      "Epoch 67/100\n",
      "1/1 [==============================] - 0s 998us/step - loss: 0.6836 - acc: 0.5714\n",
      "Epoch 68/100\n",
      "1/1 [==============================] - 0s 997us/step - loss: 0.6835 - acc: 0.5714\n",
      "Epoch 69/100\n",
      "1/1 [==============================] - 0s 997us/step - loss: 0.6834 - acc: 0.5714\n",
      "Epoch 70/100\n",
      "1/1 [==============================] - 0s 996us/step - loss: 0.6833 - acc: 0.5714\n",
      "Epoch 71/100\n",
      "1/1 [==============================] - 0s 997us/step - loss: 0.6831 - acc: 0.5714\n",
      "Epoch 72/100\n",
      "1/1 [==============================] - 0s 997us/step - loss: 0.6830 - acc: 0.5714\n",
      "Epoch 73/100\n",
      "1/1 [==============================] - 0s 998us/step - loss: 0.6829 - acc: 0.5714\n",
      "Epoch 74/100\n",
      "1/1 [==============================] - 0s 997us/step - loss: 0.6828 - acc: 0.5714\n",
      "Epoch 75/100\n",
      "1/1 [==============================] - 0s 0s/step - loss: 0.6827 - acc: 0.5714\n",
      "Epoch 76/100\n",
      "1/1 [==============================] - 0s 0s/step - loss: 0.6826 - acc: 0.5714\n",
      "Epoch 77/100\n",
      "1/1 [==============================] - 0s 997us/step - loss: 0.6825 - acc: 0.5714\n",
      "Epoch 78/100\n",
      "1/1 [==============================] - 0s 997us/step - loss: 0.6824 - acc: 0.5714\n",
      "Epoch 79/100\n",
      "1/1 [==============================] - 0s 996us/step - loss: 0.6823 - acc: 0.5714\n",
      "Epoch 80/100\n",
      "1/1 [==============================] - 0s 0s/step - loss: 0.6822 - acc: 0.5714\n",
      "Epoch 81/100\n",
      "1/1 [==============================] - 0s 997us/step - loss: 0.6821 - acc: 0.5714\n",
      "Epoch 82/100\n",
      "1/1 [==============================] - 0s 997us/step - loss: 0.6820 - acc: 0.5714\n",
      "Epoch 83/100\n",
      "1/1 [==============================] - 0s 998us/step - loss: 0.6819 - acc: 0.5714\n",
      "Epoch 84/100\n",
      "1/1 [==============================] - 0s 0s/step - loss: 0.6819 - acc: 0.5714\n",
      "Epoch 85/100\n",
      "1/1 [==============================] - 0s 996us/step - loss: 0.6818 - acc: 0.5714\n",
      "Epoch 86/100\n",
      "1/1 [==============================] - 0s 998us/step - loss: 0.6817 - acc: 0.5714\n",
      "Epoch 87/100\n",
      "1/1 [==============================] - 0s 997us/step - loss: 0.6816 - acc: 0.5714\n",
      "Epoch 88/100\n",
      "1/1 [==============================] - 0s 998us/step - loss: 0.6815 - acc: 0.5714\n",
      "Epoch 89/100\n",
      "1/1 [==============================] - 0s 997us/step - loss: 0.6814 - acc: 0.5714\n",
      "Epoch 90/100\n",
      "1/1 [==============================] - 0s 998us/step - loss: 0.6813 - acc: 0.5714\n",
      "Epoch 91/100\n",
      "1/1 [==============================] - 0s 997us/step - loss: 0.6812 - acc: 0.5714\n",
      "Epoch 92/100\n",
      "1/1 [==============================] - 0s 0s/step - loss: 0.6811 - acc: 0.5714\n",
      "Epoch 93/100\n",
      "1/1 [==============================] - 0s 998us/step - loss: 0.6810 - acc: 0.5714\n",
      "Epoch 94/100\n",
      "1/1 [==============================] - 0s 997us/step - loss: 0.6809 - acc: 0.5714\n",
      "Epoch 95/100\n",
      "1/1 [==============================] - 0s 998us/step - loss: 0.6808 - acc: 0.5714\n",
      "Epoch 96/100\n",
      "1/1 [==============================] - 0s 998us/step - loss: 0.6808 - acc: 0.5714\n",
      "Epoch 97/100\n",
      "1/1 [==============================] - 0s 997us/step - loss: 0.6807 - acc: 0.5714\n",
      "Epoch 98/100\n",
      "1/1 [==============================] - 0s 998us/step - loss: 0.6806 - acc: 0.5714\n",
      "Epoch 99/100\n",
      "1/1 [==============================] - 0s 998us/step - loss: 0.6805 - acc: 0.5714\n",
      "Epoch 100/100\n",
      "1/1 [==============================] - 0s 996us/step - loss: 0.6804 - acc: 0.5714\n"
     ]
    }
   ],
   "source": [
    "import tensorflow\n",
    "from tensorflow.keras.models import Sequential\n",
    "from tensorflow.keras.layers import Dense, Flatten\n",
    "import pandas as pd\n",
    "import numpy as np\n",
    "\n",
    "data = {\n",
    "    \"x1\":[0,0,1,0,1,1,0],\n",
    "    \"x2\":[0,1,0,1,0,1,0],\n",
    "    \"x3\":[1,1,1,0,0,1,0],\n",
    "    \"y\": [0,1,1,1,1,0,0]\n",
    "}\n",
    "df = pd.DataFrame.from_dict(data).astype('int')\n",
    "X = df[['x1', 'x2', 'x3']].values\n",
    "y = df['y'].values\n",
    "\n",
    "model = Sequential([\n",
    "    Dense(3, activation='sigmoid', input_dim=3),\n",
    "    Dense(1, activation='sigmoid')\n",
    "])\n",
    "\n",
    "model.compile(optimizer='sgd', loss='binary_crossentropy', metrics=['acc'])\n",
    "\n",
    "results = model.fit(X,y, epochs=100)"
   ]
  },
  {
   "cell_type": "markdown",
   "metadata": {
    "colab_type": "text",
    "id": "8b-r70o8p2Dm"
   },
   "source": [
    "## Try building/training a more complex MLP on a bigger dataset.\n",
    "\n",
    "Use TensorFlow Keras & the [MNIST dataset](http://yann.lecun.com/exdb/mnist/) to build the canonical handwriting digit recognizer and see what kind of accuracy you can achieve. \n",
    "\n",
    "If you need inspiration, the Internet is chalk-full of tutorials, but I want you to see how far you can get on your own first. I've linked to the original MNIST dataset above but it will probably be easier to download data through a neural network library. If you reference outside resources make sure you understand every line of code that you're using from other sources, and share with your fellow students helpful resources that you find.\n",
    "\n",
    "\n",
    "### Parts\n",
    "1. Gathering & Transforming the Data\n",
    "2. Making MNIST a Binary Problem\n",
    "3. Estimating your Neural Network (the part you focus on)"
   ]
  },
  {
   "cell_type": "markdown",
   "metadata": {},
   "source": [
    "### Gathering the Data \n",
    "\n",
    "`keras` has a handy method to pull the mnist dataset for you. You'll notice that each observation is a 28x28 arrary which represents an image. Although most Neural Network frameworks can handle higher dimensional data, that is more overhead than necessary for us. We need to flatten the image to one long row which will be 784 values (28X28). Basically, you will be appending each row to one another to make on really long row. "
   ]
  },
  {
   "cell_type": "code",
   "execution_count": 2,
   "metadata": {},
   "outputs": [],
   "source": [
    "import numpy as np\n",
    "from tensorflow.keras.datasets import mnist\n",
    "from tensorflow.keras.utils import to_categorical"
   ]
  },
  {
   "cell_type": "code",
   "execution_count": 3,
   "metadata": {},
   "outputs": [],
   "source": [
    "# input image dimensions\n",
    "img_rows, img_cols = 28, 28"
   ]
  },
  {
   "cell_type": "code",
   "execution_count": 4,
   "metadata": {},
   "outputs": [
    {
     "name": "stdout",
     "output_type": "stream",
     "text": [
      "Downloading data from https://storage.googleapis.com/tensorflow/tf-keras-datasets/mnist.npz\n",
      "11493376/11490434 [==============================] - 1s 0us/step\n"
     ]
    }
   ],
   "source": [
    "# the data, split between train and test sets\n",
    "(x_train, y_train), (x_test, y_test) = mnist.load_data()"
   ]
  },
  {
   "cell_type": "code",
   "execution_count": 5,
   "metadata": {},
   "outputs": [],
   "source": [
    "x_train = x_train.reshape(x_train.shape[0], img_rows * img_cols)\n",
    "x_test = x_test.reshape(x_test.shape[0], img_rows * img_cols)\n",
    "\n",
    "# Normalize Our Data\n",
    "x_train = x_train / 255\n",
    "x_test = x_test / 255"
   ]
  },
  {
   "cell_type": "code",
   "execution_count": 6,
   "metadata": {},
   "outputs": [
    {
     "data": {
      "text/plain": [
       "(60000, 784)"
      ]
     },
     "execution_count": 6,
     "metadata": {},
     "output_type": "execute_result"
    }
   ],
   "source": [
    "# Now the data should be in a format you're more familiar with\n",
    "x_train.shape"
   ]
  },
  {
   "cell_type": "markdown",
   "metadata": {},
   "source": [
    "### Making MNIST a Binary Problem \n",
    "MNIST is multiclass classification problem; however we haven't covered all the necessary techniques to handle this yet. You would need to one-hot encode the target, use a different loss metric, and use softmax activations for the last layer. This is all stuff we'll cover later this week, but let us simplify the problem for now: Zero or all else."
   ]
  },
  {
   "cell_type": "code",
   "execution_count": 7,
   "metadata": {},
   "outputs": [],
   "source": [
    "import numpy as np\n",
    "\n",
    "y_temp = np.zeros(y_train.shape)\n",
    "y_temp[np.where(y_train == 0.0)[0]] = 1\n",
    "y_train = y_temp\n",
    "\n",
    "y_temp = np.zeros(y_test.shape)\n",
    "y_temp[np.where(y_test == 0.0)[0]] = 1\n",
    "y_test = y_temp"
   ]
  },
  {
   "cell_type": "code",
   "execution_count": 8,
   "metadata": {},
   "outputs": [
    {
     "data": {
      "text/plain": [
       "array([0., 1., 0., ..., 0., 0., 0.])"
      ]
     },
     "execution_count": 8,
     "metadata": {},
     "output_type": "execute_result"
    }
   ],
   "source": [
    "# A Nice Binary target for ya to work with\n",
    "y_train"
   ]
  },
  {
   "cell_type": "markdown",
   "metadata": {},
   "source": [
    "### Estimating Your `net"
   ]
  },
  {
   "cell_type": "code",
   "execution_count": 19,
   "metadata": {
    "colab": {},
    "colab_type": "code",
    "id": "5MOPtYdk1HgA"
   },
   "outputs": [
    {
     "name": "stdout",
     "output_type": "stream",
     "text": [
      "Epoch 1/10\n",
      "1875/1875 [==============================] - 1s 588us/step - loss: 1.1768e-08 - accuracy: 0.7598\n",
      "Epoch 2/10\n",
      "1875/1875 [==============================] - 1s 570us/step - loss: 1.1768e-08 - accuracy: 0.7598\n",
      "Epoch 3/10\n",
      "1875/1875 [==============================] - 1s 570us/step - loss: 1.1768e-08 - accuracy: 0.7598\n",
      "Epoch 4/10\n",
      "1875/1875 [==============================] - 1s 569us/step - loss: 1.1768e-08 - accuracy: 0.7598\n",
      "Epoch 5/10\n",
      "1875/1875 [==============================] - 1s 570us/step - loss: 1.1768e-08 - accuracy: 0.7598\n",
      "Epoch 6/10\n",
      "1875/1875 [==============================] - 1s 572us/step - loss: 1.1768e-08 - accuracy: 0.7598\n",
      "Epoch 7/10\n",
      "1875/1875 [==============================] - 1s 566us/step - loss: 1.1768e-08 - accuracy: 0.7598\n",
      "Epoch 8/10\n",
      "1875/1875 [==============================] - 1s 571us/step - loss: 1.1768e-08 - accuracy: 0.7598\n",
      "Epoch 9/10\n",
      "1875/1875 [==============================] - 1s 580us/step - loss: 1.1768e-08 - accuracy: 0.7598\n",
      "Epoch 10/10\n",
      "1875/1875 [==============================] - 1s 595us/step - loss: 1.1768e-08 - accuracy: 0.7598\n"
     ]
    }
   ],
   "source": [
    "model = Sequential([\n",
    "    Dense(10, activation='sigmoid'),\n",
    "    Dense(1, activation='sigmoid'),\n",
    "    Flatten(input_shape=(28,28))\n",
    "])\n",
    "\n",
    "model.compile(optimizer='adam', loss='categorical_crossentropy', metrics=['accuracy'])\n",
    "\n",
    "results = model.fit(x_train,y_train, epochs=10)"
   ]
  },
  {
   "cell_type": "code",
   "execution_count": 21,
   "metadata": {},
   "outputs": [
    {
     "name": "stdout",
     "output_type": "stream",
     "text": [
      "313/313 [==============================] - 0s 491us/step - loss: 1.1683e-08 - accuracy: 0.7693\n",
      "\n",
      "\n",
      "Validation Data Metrics:\n",
      "loss: 1.1682510070443186e-08\n",
      "accuracy: 76.92999839782715\n"
     ]
    }
   ],
   "source": [
    "# Evaluate the model\n",
    "scores = model.evaluate(x_test,y_test)\n",
    "print(\"\\n\")\n",
    "print(\"Validation Data Metrics:\")\n",
    "print(f\"{model.metrics_names[0]}: {scores[0]}\")\n",
    "print(f\"{model.metrics_names[1]}: {scores[1]*100}\")"
   ]
  },
  {
   "cell_type": "markdown",
   "metadata": {
    "colab_type": "text",
    "id": "FwlRJSfBlCvy"
   },
   "source": [
    "## Stretch Goals: \n",
    "\n",
    "- Make MNIST a multiclass problem using cross entropy & soft-max\n",
    "- Implement Cross Validation model evaluation on your MNIST implementation \n",
    "- Research different [Gradient Descent Based Optimizers](https://keras.io/optimizers/)\n",
    " - [Siraj Raval the evolution of gradient descent](https://www.youtube.com/watch?v=nhqo0u1a6fw)\n",
    "- Build a housing price estimation model using a neural network. How does its accuracy compare with the regression models that we fit earlier on in class?"
   ]
  }
 ],
 "metadata": {
  "colab": {
   "name": "LS_DS_432_Backprop_Assignment.ipynb",
   "provenance": [],
   "version": "0.3.2"
  },
  "kernelspec": {
   "display_name": "U4-S2-NLP ",
   "language": "python",
   "name": "u4-s2-nlp"
  },
  "language_info": {
   "codemirror_mode": {
    "name": "ipython",
    "version": 3
   },
   "file_extension": ".py",
   "mimetype": "text/x-python",
   "name": "python",
   "nbconvert_exporter": "python",
   "pygments_lexer": "ipython3",
   "version": "3.7.0"
  },
  "nteract": {
   "version": "0.22.4"
  }
 },
 "nbformat": 4,
 "nbformat_minor": 4
}
